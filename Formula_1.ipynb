{
 "cells": [
  {
   "cell_type": "code",
   "execution_count": 1,
   "id": "4ae13cea",
   "metadata": {},
   "outputs": [],
   "source": [
    "import pandas as pd\n",
    "import os \n",
    "import numpy as np \n",
    "import matplotlib.pyplot as plt "
   ]
  },
  {
   "cell_type": "code",
   "execution_count": 3,
   "id": "92ad01f1",
   "metadata": {},
   "outputs": [],
   "source": [
    "#creating variables for each df in path\n",
    "path = r'C:\\Users\\USER\\Desktop\\Analysis\\python_hackerU\\formula\\data'\n",
    "csv_list = [i for i in os.listdir(path)]\n",
    "\n",
    "for i in csv_list:\n",
    "    globals()[os.path.splitext(i)[0]] = pd.read_csv(os.path.join(path,i),na_values = r'\\N')\n",
    "\n",
    "#droping unnecessery columns from races\n",
    "races = races.drop(races.columns[7:],axis = 1)"
   ]
  },
  {
   "cell_type": "code",
   "execution_count": null,
   "id": "966cad6e",
   "metadata": {},
   "outputs": [],
   "source": []
  }
 ],
 "metadata": {
  "kernelspec": {
   "display_name": "Python 3 (ipykernel)",
   "language": "python",
   "name": "python3"
  },
  "language_info": {
   "codemirror_mode": {
    "name": "ipython",
    "version": 3
   },
   "file_extension": ".py",
   "mimetype": "text/x-python",
   "name": "python",
   "nbconvert_exporter": "python",
   "pygments_lexer": "ipython3",
   "version": "3.10.9"
  }
 },
 "nbformat": 4,
 "nbformat_minor": 5
}
